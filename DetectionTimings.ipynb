{
  "nbformat": 4,
  "nbformat_minor": 0,
  "metadata": {
    "colab": {
      "name": "DetectionTimings.ipynb",
      "provenance": [],
      "collapsed_sections": [],
      "mount_file_id": "16A0dH9hO96VTdLktoFIwNrUQlpZ99_Si",
      "authorship_tag": "ABX9TyNX330yvxj5ghnA6KCoPkBX",
      "include_colab_link": true
    },
    "kernelspec": {
      "name": "python3",
      "display_name": "Python 3"
    }
  },
  "cells": [
    {
      "cell_type": "markdown",
      "metadata": {
        "id": "view-in-github",
        "colab_type": "text"
      },
      "source": [
        "<a href=\"https://colab.research.google.com/github/ChrisKolan/ColaboratoryDetectionTimings/blob/main/DetectionTimings.ipynb\" target=\"_parent\"><img src=\"https://colab.research.google.com/assets/colab-badge.svg\" alt=\"Open In Colab\"/></a>"
      ]
    },
    {
      "cell_type": "code",
      "metadata": {
        "colab": {
          "base_uri": "https://localhost:8080/",
          "height": 758
        },
        "id": "t4kDU6xBHC4X",
        "outputId": "4c01292c-089b-4637-88c4-a635b37731f7"
      },
      "source": [
        "import scipy.stats as st\r\n",
        "import numpy as np\r\n",
        "import matplotlib.pyplot as plt\r\n",
        "import pandas as pd\r\n",
        "import io\r\n",
        "from google.colab import files\r\n",
        "#uploaded = files.upload()\r\n",
        "#df = pd.read_excel(io.BytesIO(uploaded['DetectionTimingsRaw.xlsx']))\r\n",
        "\r\n",
        "df = pd.read_excel('/content/drive/MyDrive/Colab/DetectionTimings/old/DetectionTimingsRaw.xlsx')\r\n",
        "print(df.head())\r\n",
        "column_00 = df.iloc[:, 0]\r\n",
        "column_01 = df.iloc[:, 1]\r\n",
        "column_02 = df.iloc[:, 2]\r\n",
        "column_03 = df.iloc[:, 3]\r\n",
        "print(column_00)\r\n",
        "\r\n",
        "print(column_00.describe())\r\n",
        "\r\n",
        "fig, ax = plt.subplots()\r\n",
        "\r\n",
        "# Create a plot\r\n",
        "ax.violinplot([column_00, column_01, column_02])\r\n",
        "ax.violinplot([column_00], showmedians=True, showmeans=True, vert=True)\r\n",
        "\r\n",
        "\r\n",
        "plt.show()"
      ],
      "execution_count": 2,
      "outputs": [
        {
          "output_type": "stream",
          "text": [
            "   Unnamed: 0  Unnamed: 1  Unnamed: 2  ...  Unnamed: 122  Unnamed: 123  Unnamed: 124\n",
            "0          74          53         117  ...             2             3             2\n",
            "1          15          72          91  ...             3             3             2\n",
            "2          12          50          77  ...             2             4             2\n",
            "3          11          86         170  ...             2             5             2\n",
            "4          10          79          89  ...             2             3             2\n",
            "\n",
            "[5 rows x 125 columns]\n",
            "0     74\n",
            "1     15\n",
            "2     12\n",
            "3     11\n",
            "4     10\n",
            "      ..\n",
            "95    11\n",
            "96     9\n",
            "97    10\n",
            "98    11\n",
            "99    12\n",
            "Name: Unnamed: 0, Length: 100, dtype: int64\n",
            "count    100.000000\n",
            "mean      13.320000\n",
            "std        8.111446\n",
            "min        9.000000\n",
            "25%       11.000000\n",
            "50%       11.000000\n",
            "75%       12.000000\n",
            "max       74.000000\n",
            "Name: Unnamed: 0, dtype: float64\n"
          ],
          "name": "stdout"
        },
        {
          "output_type": "display_data",
          "data": {
            "image/png": "[encoded data removed]",
            "text/plain": [
              "<Figure size 432x288 with 1 Axes>"
            ]
          },
          "metadata": {
            "tags": [],
            "needs_background": "light"
          }
        }
      ]
    }
  ]
}